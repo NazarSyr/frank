{
 "cells": [
  {
   "cell_type": "markdown",
   "metadata": {},
   "source": [
    "# Under the hood: How we infer the radial brightness profile"
   ]
  },
  {
   "cell_type": "markdown",
   "metadata": {},
   "source": [
    "The goal of this tutorial is to provide insight into how frank works. We will step you through the core concepts to provide an understanding of how the inferred radial brightness profile is determined from the visibilities. These concepts are:\n",
    "\n",
    " - The model relationship between the brightness and the visibility points\n",
    " - Why a naive inference of the brightness profile does not work and the need for regularization\n",
    " - How frank does this regularization\n",
    " - How the model's parameters affects the fit.\n",
    " \n",
    " This outline of this tutorial follows Section 2 of the frank methods paper."
   ]
  },
  {
   "cell_type": "code",
   "execution_count": null,
   "metadata": {},
   "outputs": [],
   "source": [
    "%matplotlib inline\n",
    "\n",
    "import numpy as np\n",
    "import matplotlib.pyplot as plt"
   ]
  },
  {
   "cell_type": "markdown",
   "metadata": {},
   "source": [
    "## The visibility model: a discrete Hankel Transform\n",
    "\n",
    "The starting point for our model is the assumption of an axisymmetric source positioned at the phase centre of the observations and the visibilitiles are already calibrated, such that they can be approximated by the Fourier transform of the brightness,\n",
    "\\begin{equation}\n",
    "    V_\\nu(u,v)=\\iint I_\\nu (x,y)\\ \\exp[-2 \\pi i (u x + v y)]\\ {\\rm d}x {\\rm d}y.\n",
    "\\end{equation}\n",
    "\n",
    "For a discussion of the assumptions behind this see, e.g. ???. We further make the assumption that our source is axisymmetric, i.e. $I_\\nu (x,y) \\equiv I_\\nu(r)$. In this case, the equation for the visibility can be reduced to a Hankel Transform,\n",
    "\\begin{equation}\n",
    "  V_\\nu(q) = \\int I_\\nu(r) J_0(2 \\pi q r) 2 \\pi r\\ {\\rm d} r,\n",
    "\\end{equation}\n",
    "where $q= \\sqrt{u^2 + v^2}$ and $J_0$ is a Bessel function (of the first kind). The inverse of a Hankel transform is also a Hankel Transform,\n",
    "\\begin{equation}\n",
    "  I_\\nu(q) = \\int V_\\nu(q) J_0(2 \\pi q r) 2 \\pi q\\ {\\rm d} q.\n",
    "\\end{equation}\n",
    "These equations show that the contribution to the brightness at a given point "
   ]
  },
  {
   "cell_type": "code",
   "execution_count": 15,
   "metadata": {},
   "outputs": [
    {
     "data": {
      "image/png": "[encoded data removed]",
      "text/plain": [
       "<Figure size 432x288 with 1 Axes>"
      ]
     },
     "metadata": {
      "needs_background": "light"
     },
     "output_type": "display_data"
    }
   ],
   "source": [
    "from scipy.special import j0\n",
    "x = np.linspace(0, 10*np.pi, 10**3)\n",
    "plt.plot(x, j0(x), 'k')\n",
    "plt.axhline(0, ls='--', c='k')\n",
    "plt.xlabel('$x$')\n",
    "plt.ylabel('$J_0(x)$')\n",
    "None"
   ]
  },
  {
   "cell_type": "markdown",
   "metadata": {},
   "source": [
    "## Zeroth step: Import the main frank library"
   ]
  },
  {
   "cell_type": "code",
   "execution_count": 2,
   "metadata": {},
   "outputs": [],
   "source": []
  },
  {
   "cell_type": "code",
   "execution_count": null,
   "metadata": {},
   "outputs": [],
   "source": [
    "# F"
   ]
  },
  {
   "cell_type": "code",
   "execution_count": 3,
   "metadata": {},
   "outputs": [
    {
     "name": "stdout",
     "output_type": "stream",
     "text": [
      "Estimated weights: 13480.54760698165\n"
     ]
    },
    {
     "ename": "NameError",
     "evalue": "name 'Rmax' is not defined",
     "output_type": "error",
     "traceback": [
      "\u001b[0;31m---------------------------------------------------------------------------\u001b[0m",
      "\u001b[0;31mNameError\u001b[0m                                 Traceback (most recent call last)",
      "\u001b[0;32m<ipython-input-3-706dcf312512>\u001b[0m in \u001b[0;36m<module>\u001b[0;34m()\u001b[0m\n\u001b[1;32m     24\u001b[0m     \u001b[0;32mreturn\u001b[0m \u001b[0mnorm\u001b[0m \u001b[0;34m*\u001b[0m \u001b[0mI\u001b[0m\u001b[0;34m\u001b[0m\u001b[0;34m\u001b[0m\u001b[0m\n\u001b[1;32m     25\u001b[0m \u001b[0;34m\u001b[0m\u001b[0m\n\u001b[0;32m---> 26\u001b[0;31m \u001b[0mr_pts\u001b[0m \u001b[0;34m=\u001b[0m \u001b[0mnp\u001b[0m\u001b[0;34m.\u001b[0m\u001b[0mlinspace\u001b[0m\u001b[0;34m(\u001b[0m\u001b[0;36m0\u001b[0m\u001b[0;34m,\u001b[0m \u001b[0mRmax\u001b[0m\u001b[0;34m,\u001b[0m \u001b[0;36m1000\u001b[0m\u001b[0;34m)\u001b[0m\u001b[0;34m\u001b[0m\u001b[0;34m\u001b[0m\u001b[0m\n\u001b[0m",
      "\u001b[0;31mNameError\u001b[0m: name 'Rmax' is not defined"
     ]
    }
   ],
   "source": [
    "u,v,Vis,weights = frank.io.load_uvtable('multi_ring_C43_6.txt.bz2')\n",
    "\n",
    "weights = frank.utilities.estimate_weights(u, v, Vis, use_median=True)\n",
    "print(\"Estimated weights:\", weights.mean())\n",
    "\n",
    "def model_profile(r):\n",
    "    \n",
    "    def gauss(a, b, c):\n",
    "        return a * np.exp( - 0.5*(r-b)**2 / c**2)\n",
    "    \n",
    "    norm = 1e10\n",
    "    \n",
    "    # Add the symmetric Gaussians\n",
    "    a = [0.60, -0.40, -0.30]\n",
    "    b = [0.70, 0.60, 0.85]\n",
    "    c = [0.20, 0.05, 0.05]\n",
    "    \n",
    "    I = sum([gauss(a,b,c) for a, b, c in zip(a,b,c)])\n",
    "    \n",
    "    # Add the non-symmetric Gaussian:\n",
    "    I += gauss(1, 0.15, 0.05) * (r <= 0.15)\n",
    "    I += gauss(1, 0.15, 0.10) * (r >  0.15)\n",
    "    \n",
    "    return norm * I"
   ]
  },
  {
   "cell_type": "code",
   "execution_count": null,
   "metadata": {},
   "outputs": [],
   "source": [
    "geometry = FixedGeometry(0.,0.,0.,0.)"
   ]
  },
  {
   "cell_type": "code",
   "execution_count": null,
   "metadata": {},
   "outputs": [],
   "source": [
    "FF = FrankFitter(Rmax, Num_cells, geometry, alpha=1.05, weights_smooth=1e-4)\n",
    "sol = FF.fit(u,v,Vis, weights)"
   ]
  },
  {
   "cell_type": "code",
   "execution_count": null,
   "metadata": {},
   "outputs": [],
   "source": [
    "plt.figure(figsize=(10,8))\n",
    "plt.plot(sol.r, sol.mean)\n",
    "plt.plot(r_pts, model_profile(r_pts), 'k')\n",
    "plt.xlabel('Radius [arcsec]')\n",
    "plt.ylabel('Intensity [Jy/Sr]')"
   ]
  },
  {
   "cell_type": "code",
   "execution_count": null,
   "metadata": {},
   "outputs": [],
   "source": []
  }
 ],
 "metadata": {
  "kernelspec": {
   "display_name": "Python 3",
   "language": "python",
   "name": "python3"
  },
  "language_info": {
   "codemirror_mode": {
    "name": "ipython",
    "version": 3
   },
   "file_extension": ".py",
   "mimetype": "text/x-python",
   "name": "python",
   "nbconvert_exporter": "python",
   "pygments_lexer": "ipython3",
   "version": "3.7.5"
  }
 },
 "nbformat": 4,
 "nbformat_minor": 2
}
