{
 "cells": [
  {
   "cell_type": "markdown",
   "metadata": {},
   "source": [
    "# What's fit.py doing? The fitting procedure in detail"
   ]
  },
  {
   "cell_type": "markdown",
   "metadata": {},
   "source": [
    "To give further insight into the fitting process in <font color=green>Frankenstein</font> (`frank`) and how you can modify it, here we'll use the code as a library and perform the same fit that's in the [Quickstart](quickstart.rst), just in more detail.\n",
    "\n",
    "So we'll keep the DSHARP continuum observations of AS 209 ([Andrews et al. 2018](https://ui.adsabs.harvard.edu/abs/2018ApJ...869L..41A/abstract)) as the input dataset, and frank will reconstruct the disc's 1D radial brightness profile by nonparametrically fitting the real component of the visibility distribution. \n",
    "\n",
    "Specifically frank will perform 4 steps in the fit, which we'll break into distinct calls here (these are the steps taken in `fit.py`): \n",
    "\n",
    "1. Read in the data (UVTable) and parse the *.json* parameter file; \n",
    "\n",
    "2. Determine the disc geometry (inclination, position angle and phase offset), then deproject the visibilities;\n",
    "\n",
    "3. Fit the deprojected visibilities with a Gaussian process (~10 s) to yield a brightness profile;\n",
    "\n",
    "4. Save the results: the brightness profile fit, visibility domain fit, UVtables with the **reprojected** fit and residuals between the input datafile and the reprojected fit, and a figure showing the fit and diagnostics. We'll also supply a CLEAN brightness profile for the disc as well as the synthesized CLEAN beam parameters, allowing frank to compare his fit to the CLEAN fit by:\n",
    "\n",
    "    - Convolving the fitted frank brightness profile with the synthesized beam to compare to the CLEAN profile and\n",
    "    \n",
    "    - Taking the discrete Hankel transform of the CLEAN profile to compare to the frank visibility domain fit.\n",
    "    \n",
    "Let's walk through these."
   ]
  },
  {
   "cell_type": "markdown",
   "metadata": {},
   "source": [
    "## 1. Read in the data and parameter values"
   ]
  },
  {
   "cell_type": "markdown",
   "metadata": {},
   "source": [
    "First import the goods. As in the library example in the [Quickstart](quickstart.rst), we're importing the internal class [FrankFitter](https://github.com/discsim/frankenstein/blob/master/docs/_build/html/py_API.html#frankenstein.radial_fitters.FrankFitter) and the `_fit_geometry_gaussian` function used by the internal class [FitGeometryGaussian](https://github.com/discsim/frankenstein/blob/master/docs/_build/html/py_API.html#frankenstein.geometry.FitGeometryGaussian) directly in order to demonstrate their usage. Just note that `fit.py` uses the wrapper functions `deproject_disc` and `perform_fit` to call these, and more generally uses wrapper functions to do everything that we'll walk through more verbosely here."
   ]
  },
  {
   "cell_type": "code",
   "execution_count": null,
   "metadata": {
    "scrolled": true
   },
   "outputs": [],
   "source": [
    "%matplotlib inline\n",
    "\n",
    "import json\n",
    "import numpy as np\n",
    "import matplotlib.pyplot as plt\n",
    "\n",
    "from frank.constants import rad_to_arcsec\n",
    "from frank.geometry import _fit_geometry_gaussian, SourceGeometry # TODO: _fit_geometry_gaussian\n",
    "from frank.radial_fitters import FrankFitter\n",
    "from frank.fit import output_results"
   ]
  },
  {
   "cell_type": "markdown",
   "metadata": {},
   "source": [
    "Using a UVTable extracted from an MSTable (see [xx](xx.xx) for how to do this) and the default parameter file `default_parameters.json`, let's read both in."
   ]
  },
  {
   "cell_type": "code",
   "execution_count": null,
   "metadata": {},
   "outputs": [],
   "source": [
    "as209_dat = np.load('AS209_continuum.npz')\n",
    "u, v, vis, weights = [as209_dat[k] for k in ['u', 'v', 'V', 'weights']]\n",
    "\n",
    "default_parameters = \"./../frank/default_parameters.json\"\n",
    "model = json.load(open(default_parameters, 'r'))"
   ]
  },
  {
   "cell_type": "markdown",
   "metadata": {},
   "source": [
    "## 2. Determinine the disc geometry and deproject the visibilities"
   ]
  },
  {
   "cell_type": "markdown",
   "metadata": {},
   "source": [
    "Before fitting the radial brightness profile, we need to determine the disc's geometry (inclination, position angle and phase center) in order to deproject the visibilities (frank, fitting in 1D, assumes an axisymmetric source).\n",
    "To do this we pass an object specifying how the geometry is determined to the [FrankFitter](https://github.com/discsim/frankenstein/blob/master/docs/_build/html/py_API.html#frankenstein.radial_fitters.FrankFitter) class.\n",
    "\n",
    "frank has two classes for this: [FixedGeometry](https://github.com/discsim/frankenstein/blob/master/docs/_build/html/py_API.html#frankenstein.geometry.FixedGeometry) just takes a geometry you provide, while [FitGeometryGaussian](https://github.com/discsim/frankenstein/blob/master/docs/_build/html/py_API.html#frankenstein.geometry.FitGeometryGaussian) determines the geometry by fitting a 2D Gaussian directly to the visibilities. For the latter you can also choose to provide a known phase center if you just want to fit for the inclination and PA. \n",
    "\n",
    "Let's use `_fit_geometry_gaussian`, the function that the [FitGeometryGaussian](https://github.com/discsim/frankenstein/blob/master/docs/_build/html/py_API.html#frankenstein.geometry.FitGeometryGaussian) class uses."
   ]
  },
  {
   "cell_type": "code",
   "execution_count": null,
   "metadata": {},
   "outputs": [],
   "source": [
    "inc, PA, dRA, dDec = _fit_geometry_gaussian(u,v,vis,weights)\n",
    "\n",
    "print('Fitted geometry: inc  = %.2f deg,\\n \\t\\t PA   = %.2f deg,\\n \\t\\t dRA  = %.2f mas,\\n \\t\\t dDec = %.2f mas'\n",
    "      %(inc, PA, dRA*1e3, dDec*1e3))\n",
    "      #%(geom.inc, geom.PA, geom.dRA*1e3, geom.dDec*1e3))"
   ]
  },
  {
   "cell_type": "markdown",
   "metadata": {},
   "source": [
    "xx fix return geom as dict above xx\n",
    "\n",
    "Cool, these are close to the published values; let's use the published values and deproject the visiblities by them."
   ]
  },
  {
   "cell_type": "code",
   "execution_count": null,
   "metadata": {},
   "outputs": [],
   "source": [
    "geom = SourceGeometry(dRA=1.9e-3, dDec=-2.5e-3, inc=34.97, PA=85.76)\n",
    "\n",
    "ub, vb, Vb = geom.apply_correction(u,v, vis)"
   ]
  },
  {
   "cell_type": "markdown",
   "metadata": {},
   "source": [
    "And let's see the effect on the uv-points (not that easily interpretable, but just to show that our correction had an effect)."
   ]
  },
  {
   "cell_type": "code",
   "execution_count": null,
   "metadata": {},
   "outputs": [],
   "source": [
    "plt.plot(u / 1e6, v / 1e6, '+', c='#1EC8FE', label='Projected')\n",
    "plt.plot(ub / 1e6, vb / 1e6, 'x', c='#D14768', label='Deprojected')\n",
    "plt.xlabel('u [M$\\lambda$]')\n",
    "plt.ylabel('v [M$\\lambda$]')\n",
    "plt.legend(loc=0)\n",
    "plt.title('Visibility deprojection')"
   ]
  },
  {
   "cell_type": "markdown",
   "metadata": {},
   "source": [
    "### Adding your own geometry fit routine"
   ]
  },
  {
   "cell_type": "markdown",
   "metadata": {},
   "source": [
    "You can extend frank's geometry fitting capabilities with your own routines by writing a class that inherits from the [SourceGeometry](https://github.com/discsim/frankenstein/blob/master/docs/_build/html/py_API.html#frankenstein.geometry.SourceGeometry) base class. This base class provides the interface used by frank to deproject the visibilities, but you do need to implement your own [fit()](https://github.com/discsim/frankenstein/blob/master/docs/_build/html/py_API.html#frankenstein.geometry.SourceGeometry.fit) method. This method will be called internally by [FrankFitter](https://github.com/discsim/frankenstein/blob/master/docs/_build/html/py_API.html#frankenstein.radial_fitters.FrankFitter) to determine the geometry.\n",
    "\n",
    "The [fit()](https://github.com/discsim/frankenstein/blob/master/docs/_build/html/py_API.html#frankenstein.geometry.SourceGeometry.fit) method should set the attributes `_inc`,  `_PA`, `_dRA`, and `_dDec` -- in respective units of deg, deg, arcsec, arcsec -- that are used by the\n",
    "[apply_correction()](https://github.com/discsim/frankenstein/blob/master/docs/_build/html/py_API.html#frankenstein.geometry.SourceGeometry.apply_correction),\n",
    "[undo_correction()](https://github.com/discsim/frankenstein/blob/master/docs/_build/html/py_API.html#frankenstein.geometry.SourceGeometry.undo_correction),\n",
    "[deproject()](https://github.com/discsim/frankenstein/blob/master/docs/_build/html/py_API.html#frankenstein.geometry.SourceGeometry.deproject),\n",
    "and\n",
    "[reproject()](https://github.com/discsim/frankenstein/blob/master/docs/_build/html/py_API.html#frankenstein.geometry.SourceGeometry.reproject) methods."
   ]
  },
  {
   "cell_type": "markdown",
   "metadata": {},
   "source": [
    "## 3. Fit the deprojected visibilities for the brightness profile"
   ]
  },
  {
   "cell_type": "markdown",
   "metadata": {},
   "source": [
    "Ok, so we have the deprojected visibilities...let's fit 'em!\n",
    "\n",
    "Objects used to perform a fit are in the [FrankFitter](https://github.com/discsim/frankenstein/blob/master/docs/_build/html/py_API.html#frankenstein.radial_fitters.FrankFitter) class. The main parameters are: `Rmax` and `N`, controlling the disc radius out to which the fit is performed and the number of collocation points used in the fit; and the `geometry` object detailed [above](using_frank_as_library.ipynb#2.-Determinine-the-disc-geometry-and-deproject-the-data) xx update xx. The hyperprior is controlled through the parameters `alpha`, `p_0` and `weights_smooth`.\n",
    "\n",
    "frank performs a fit with the [FrankFitter](https://github.com/discsim/frankenstein/blob/master/docs/_build/html/py_API.html#frankenstein.radial_fitters.FrankFitter) class' [fit()](https://github.com/discsim/frankenstein/blob/master/docs/_build/html/py_API.html#frankenstein.radial_fitters.FrankFitter.fit) function. Let's use this class with `Rmax = 1.6\"`, `N = 250`, the `geometry` object we generated above using the published values, and we'll pass in the default hyperprior values `alpha = 1.05` and `weights_smooth = 1e-4` just for demonstration (we'll also use the default `p_0 = 1e-15`). Note that we'll only fit the real component of the visibilities, as frank is assuming an axisymmetric source that has zero imaginary component."
   ]
  },
  {
   "cell_type": "code",
   "execution_count": null,
   "metadata": {},
   "outputs": [],
   "source": [
    "Rmax = 1.6\n",
    "N = 250\n",
    "\n",
    "FF = FrankFitter(Rmax, N, geometry=geometry, alpha=1.05, weights_smooth=1e-4)\n",
    "\n",
    "sol = FF.fit(u, v, vis, weights)"
   ]
  },
  {
   "cell_type": "markdown",
   "metadata": {},
   "source": [
    "## 4. Save the results and generate plots"
   ]
  },
  {
   "cell_type": "markdown",
   "metadata": {},
   "source": [
    "Once the fit is complete the best fit parameters are returned and stored in the [FrankFitter](https://github.com/discsim/frankenstein/blob/master/docs/_build/html/py_API.html#frankenstein.radial_fitters.FrankFitter) class' [MAP_solution](https://github.com/discsim/frankenstein/blob/master/docs/_build/html/py_API.html#frankenstein.radial_fitters.FrankFitter.MAP_solution) attribute. \n",
    "The fit is returned as a [_HankelRegressor](https://github.com/discsim/frankenstein/blob/master/docs/_build/html/py_API.html#frankenstein.radial_fitters._HankelRegressor) object, which provides the posterior [mean](https://github.com/discsim/frankenstein/blob/master/docs/_build/html/py_API.html#frankenstein.radial_fitters._HankelRegressor.mean), [covariance](https://github.com/discsim/frankenstein/blob/master/docs/_build/html/py_API.html#frankenstein.radial_fitters._HankelRegressor.covariance), and [power_spectrum](https://github.com/discsim/frankenstein/blob/master/docs/_build/html/py_API.html#frankenstein.radial_fitters._HankelRegressor.power_spectrum), as well as the fit's radius points [r](https://github.com/discsim/frankenstein/blob/master/docs/_build/html/py_API.html#frankenstein.radial_fitters._HankelRegressor.r) and corresponding frequency points [q](https://github.com/discsim/frankenstein/blob/master/docs/_build/html/py_API.html#frankenstein.radial_fitters._HankelRegressor.q). \n",
    "\n",
    "The solution object also provides methods to compute the best fit model's visibilities with [predict](https://github.com/discsim/frankenstein/blob/master/docs/_build/html/py_API.html#frankenstein.radial_fitters._HankelRegressor.predict) and to evaluate its [log_likelihood](https://github.com/discsim/frankenstein/blob/master/docs/_build/html/py_API.html#frankenstein.radial_fitters._HankelRegressor.log_likelihood)."
   ]
  },
  {
   "cell_type": "markdown",
   "metadata": {},
   "source": [
    "Here's the default figure showing the fitted brightness profile, fitted visibility distribution, power spectrum reconstruction, and a 2D image of the 1D fit swept over $2\\pi$. We could also use [CASA](https://casa.nrao.edu) to CLEAN (thereby convolving with the synthesized beam) the `frank` fit image to compare with a CLEAN model image."
   ]
  },
  {
   "cell_type": "code",
   "execution_count": null,
   "metadata": {},
   "outputs": [],
   "source": [
    "#Note the Hankel transform of the CLEAN profile is low beyond $2\\times 10^6 \\lambda$ because of beam convolution.\n",
    "\"\"\"\n",
    "# Plot the CLEAN profile\n",
    "plt.plot(AS209_profile.r*rad_to_arcsec, AS209_profile.Inu, 'r', label='CLEAN')\n",
    "\n",
    "# Plot also the predicted visibilities of the CLEAN image\n",
    "from frank.hankel import DiscreteHankelTransform\n",
    "dht = DiscreteHankelTransform(Rmax,300)\n",
    "plot_log_abs(ki, \n",
    "             best_fit.predict_deprojected(ki, \n",
    "             I=np.interp(dht.r, \n",
    "                         AS209_profile.r, \n",
    "                         AS209_profile.Inu)),\n",
    "             c='r', label='CLEAN')\n",
    "\"\"\"             "
   ]
  }
 ],
 "metadata": {
  "kernelspec": {
   "display_name": "Python 3",
   "language": "python",
   "name": "python3"
  },
  "language_info": {
   "codemirror_mode": {
    "name": "ipython",
    "version": 3
   },
   "file_extension": ".py",
   "mimetype": "text/x-python",
   "name": "python",
   "nbconvert_exporter": "python",
   "pygments_lexer": "ipython3",
   "version": "3.7.4"
  },
  "pycharm": {
   "stem_cell": {
    "cell_type": "raw",
    "metadata": {
     "collapsed": false
    },
    "source": []
   }
  }
 },
 "nbformat": 4,
 "nbformat_minor": 2
}
